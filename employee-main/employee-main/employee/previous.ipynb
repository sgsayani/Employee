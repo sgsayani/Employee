{
 "cells": [
  {
   "cell_type": "code",
   "execution_count": 1,
   "metadata": {},
   "outputs": [],
   "source": [
    "import pandas as pd\n",
    "import numpy as np\n",
    "import tensorflow as tf\n",
    "from tensorflow.python.keras.layers import Dense, Dropout\n",
    "from tensorflow.python.keras.models import Sequential\n",
    "import xgboost as xgb\n",
    "from sklearn.svm import SVC \n",
    "from sklearn.model_selection import train_test_split\n",
    "from sklearn import metrics\n",
    "from sklearn.ensemble import RandomForestClassifier\n",
    "import matplotlib.pyplot as plt"
   ]
  },
  {
   "cell_type": "code",
   "execution_count": 7,
   "metadata": {},
   "outputs": [
    {
     "name": "stdout",
     "output_type": "stream",
     "text": [
      "     AGE  MANG. POS  QUALIFCSN  EXPRNC  GENDER  PRESENT JOB FEELING  \\\n",
      "0      2          2          3       2       1                    3   \n",
      "1      2          2          3       3       1                    4   \n",
      "2      2          2          3       2       2                    4   \n",
      "3      2          2          3       2       1                    4   \n",
      "4      2          3          3       3       1                    3   \n",
      "..   ...        ...        ...     ...     ...                  ...   \n",
      "135    3          2          4       3       1                    3   \n",
      "136    2          2          4       2       2                    4   \n",
      "137    1          2          2       1       2                    3   \n",
      "138    2          3          4       1       2                    5   \n",
      "139    2          2          3       3       1                    2   \n",
      "\n",
      "     Unnamed: 6  ENTHUSIASM  WORKOVERLD  ENJOYMNT  ...  EMOSNAL STABLTY  \\\n",
      "0             3         4.0           2         3  ...                1   \n",
      "1             5         1.0           2         2  ...                4   \n",
      "2             4         4.0           4         4  ...                3   \n",
      "3             3         3.0           4         2  ...                3   \n",
      "4             4         4.0           5         4  ...                4   \n",
      "..          ...         ...         ...       ...  ...              ...   \n",
      "135           4         2.0           5         1  ...                4   \n",
      "136           4         4.0           4         4  ...                4   \n",
      "137           3         2.0           4         2  ...                3   \n",
      "138           4         3.0           4         1  ...                3   \n",
      "139           2         4.0           3         2  ...                4   \n",
      "\n",
      "     Unnamed: 17  CHEERUL  TIRED  ABSNT MIND  DISCUSS CO-WORKER  PERSNL MTTR  \\\n",
      "0              3        4    3.0           4                  4            4   \n",
      "1              3        3    1.0           4                  3            4   \n",
      "2              3        4    3.0           4                  4            4   \n",
      "3              3        2    1.0           3                  1            3   \n",
      "4              5        1    1.0           5                  1            5   \n",
      "..           ...      ...    ...         ...                ...          ...   \n",
      "135            3        3    4.0           4                  3            4   \n",
      "136            4        2    4.0           4                  4            4   \n",
      "137            3        3    3.0           2                  2            2   \n",
      "138            1        4    4.0           1                  5            1   \n",
      "139            4        4    3.0           4                  2            4   \n",
      "\n",
      "     THOUGHT OF LEAVING  LESS EFFORT   THAN REQRD  \n",
      "0                     4             4         NaN  \n",
      "1                     3             3         NaN  \n",
      "2                     4             2         NaN  \n",
      "3                     1             3         NaN  \n",
      "4                     1             5         NaN  \n",
      "..                  ...           ...         ...  \n",
      "135                   3             4         NaN  \n",
      "136                   4             5         NaN  \n",
      "137                   2             3         NaN  \n",
      "138                   5             1         NaN  \n",
      "139                   2             4         NaN  \n",
      "\n",
      "[140 rows x 26 columns]\n"
     ]
    }
   ],
   "source": [
    "data=pd.read_excel(\"real_state.xlsx\",sheet_name=1)\n",
    "print(data)"
   ]
  },
  {
   "cell_type": "code",
   "execution_count": 11,
   "metadata": {},
   "outputs": [
    {
     "name": "stdout",
     "output_type": "stream",
     "text": [
      "(138, 23)\n",
      "     AGE  MANG. POS  QUALIFCSN  EXPRNC  GENDER  PRESENT JOB FEELING  \\\n",
      "0      2          2          3       2       1                    3   \n",
      "1      2          2          3       3       1                    4   \n",
      "2      2          2          3       2       2                    4   \n",
      "3      2          2          3       2       1                    4   \n",
      "4      2          3          3       3       1                    3   \n",
      "..   ...        ...        ...     ...     ...                  ...   \n",
      "135    3          2          4       3       1                    3   \n",
      "136    2          2          4       2       2                    4   \n",
      "137    1          2          2       1       2                    3   \n",
      "138    2          3          4       1       2                    5   \n",
      "139    2          2          3       3       1                    2   \n",
      "\n",
      "     ENTHUSIASM  WORKOVERLD  ENJOYMNT  UNPLSNTTASK  ...  DOWNHRTED  BOTHRED  \\\n",
      "0           4.0           2         3            4  ...          3        2   \n",
      "1           1.0           2         2            5  ...          2        2   \n",
      "2           4.0           4         4            2  ...          3        4   \n",
      "3           3.0           4         2            1  ...          3        2   \n",
      "4           4.0           5         4            1  ...          5        1   \n",
      "..          ...         ...       ...          ...  ...        ...      ...   \n",
      "135         2.0           5         1            2  ...          4        4   \n",
      "136         4.0           4         4            3  ...          2        4   \n",
      "137         2.0           4         2            3  ...          3        4   \n",
      "138         3.0           4         1            4  ...          4        4   \n",
      "139         4.0           3         2            2  ...          4        4   \n",
      "\n",
      "     EMOSNAL STABLTY  CHEERUL  TIRED  ABSNT MIND  DISCUSS CO-WORKER  \\\n",
      "0                  1        4    3.0           4                  4   \n",
      "1                  4        3    1.0           4                  3   \n",
      "2                  3        4    3.0           4                  4   \n",
      "3                  3        2    1.0           3                  1   \n",
      "4                  4        1    1.0           5                  1   \n",
      "..               ...      ...    ...         ...                ...   \n",
      "135                4        3    4.0           4                  3   \n",
      "136                4        2    4.0           4                  4   \n",
      "137                3        3    3.0           2                  2   \n",
      "138                3        4    4.0           1                  5   \n",
      "139                4        4    3.0           4                  2   \n",
      "\n",
      "     PERSNL MTTR  THOUGHT OF LEAVING  LESS EFFORT   \n",
      "0              4                   4             4  \n",
      "1              4                   3             3  \n",
      "2              4                   4             2  \n",
      "3              3                   1             3  \n",
      "4              5                   1             5  \n",
      "..           ...                 ...           ...  \n",
      "135            4                   3             4  \n",
      "136            4                   4             5  \n",
      "137            2                   2             3  \n",
      "138            1                   5             1  \n",
      "139            4                   2             4  \n",
      "\n",
      "[138 rows x 23 columns]\n"
     ]
    }
   ],
   "source": [
    "name=data.columns[:25]\n",
    "data=data[name]\n",
    "data=data.dropna()\n",
    "data=data.loc[:, ~data.columns.str.contains('^Unnamed')]\n",
    "print(data.shape)\n",
    "print(data)"
   ]
  },
  {
   "cell_type": "code",
   "execution_count": 13,
   "metadata": {},
   "outputs": [
    {
     "name": "stdout",
     "output_type": "stream",
     "text": [
      "     ENTHUSIASM  WORKOVERLD  ENJOYMNT  UNPLSNTTASK  TOUGH PERFORMNCE  \\\n",
      "0           4.0           2         3            4                 4   \n",
      "1           1.0           2         2            5                 1   \n",
      "2           4.0           4         4            2                 5   \n",
      "3           3.0           4         2            1                 5   \n",
      "4           4.0           5         4            1                 5   \n",
      "..          ...         ...       ...          ...               ...   \n",
      "135         2.0           5         1            2                 4   \n",
      "136         4.0           4         4            3                 3   \n",
      "137         2.0           4         2            3                 4   \n",
      "138         3.0           4         1            4                 5   \n",
      "139         4.0           3         2            2                 4   \n",
      "\n",
      "     TIME MNGMNT  DISAPNTMNT  DOWNHRTED  BOTHRED  EMOSNAL STABLTY  CHEERUL  \\\n",
      "0              4           3          3        2                1        4   \n",
      "1              1           4          2        2                4        3   \n",
      "2              2           4          3        4                3        4   \n",
      "3              1           2          3        2                3        2   \n",
      "4              1           4          5        1                4        1   \n",
      "..           ...         ...        ...      ...              ...      ...   \n",
      "135            1           5          4        4                4        3   \n",
      "136            2           4          2        4                4        2   \n",
      "137            2           4          3        4                3        3   \n",
      "138            2           4          4        4                3        4   \n",
      "139            2           2          4        4                4        4   \n",
      "\n",
      "     TIRED  ABSNT MIND  DISCUSS CO-WORKER  PERSNL MTTR  THOUGHT OF LEAVING  \\\n",
      "0      3.0           4                  4            4                   4   \n",
      "1      1.0           4                  3            4                   3   \n",
      "2      3.0           4                  4            4                   4   \n",
      "3      1.0           3                  1            3                   1   \n",
      "4      1.0           5                  1            5                   1   \n",
      "..     ...         ...                ...          ...                 ...   \n",
      "135    4.0           4                  3            4                   3   \n",
      "136    4.0           4                  4            4                   4   \n",
      "137    3.0           2                  2            2                   2   \n",
      "138    4.0           1                  5            1                   5   \n",
      "139    3.0           4                  2            4                   2   \n",
      "\n",
      "     LESS EFFORT   \n",
      "0               4  \n",
      "1               3  \n",
      "2               2  \n",
      "3               3  \n",
      "4               5  \n",
      "..            ...  \n",
      "135             4  \n",
      "136             5  \n",
      "137             3  \n",
      "138             1  \n",
      "139             4  \n",
      "\n",
      "[138 rows x 17 columns] 0      3\n",
      "1      4\n",
      "2      4\n",
      "3      4\n",
      "4      3\n",
      "      ..\n",
      "135    3\n",
      "136    4\n",
      "137    3\n",
      "138    5\n",
      "139    2\n",
      "Name: PRESENT JOB FEELING, Length: 138, dtype: int64\n"
     ]
    }
   ],
   "source": [
    "class_value=data[\"PRESENT JOB FEELING\"]\n",
    "features=data.columns[6:]\n",
    "features_value=data[features]\n",
    "print(features_value,class_value)\n",
    "x=features_value\n",
    "y=class_value"
   ]
  },
  {
   "cell_type": "code",
   "execution_count": 25,
   "metadata": {},
   "outputs": [],
   "source": [
    "x_train, x_test, y_train, y_test = train_test_split(x,y,test_size=0.1, random_state=42)"
   ]
  },
  {
   "cell_type": "code",
   "execution_count": 26,
   "metadata": {},
   "outputs": [
    {
     "data": {
      "text/html": [
       "<style>#sk-container-id-6 {color: black;background-color: white;}#sk-container-id-6 pre{padding: 0;}#sk-container-id-6 div.sk-toggleable {background-color: white;}#sk-container-id-6 label.sk-toggleable__label {cursor: pointer;display: block;width: 100%;margin-bottom: 0;padding: 0.3em;box-sizing: border-box;text-align: center;}#sk-container-id-6 label.sk-toggleable__label-arrow:before {content: \"▸\";float: left;margin-right: 0.25em;color: #696969;}#sk-container-id-6 label.sk-toggleable__label-arrow:hover:before {color: black;}#sk-container-id-6 div.sk-estimator:hover label.sk-toggleable__label-arrow:before {color: black;}#sk-container-id-6 div.sk-toggleable__content {max-height: 0;max-width: 0;overflow: hidden;text-align: left;background-color: #f0f8ff;}#sk-container-id-6 div.sk-toggleable__content pre {margin: 0.2em;color: black;border-radius: 0.25em;background-color: #f0f8ff;}#sk-container-id-6 input.sk-toggleable__control:checked~div.sk-toggleable__content {max-height: 200px;max-width: 100%;overflow: auto;}#sk-container-id-6 input.sk-toggleable__control:checked~label.sk-toggleable__label-arrow:before {content: \"▾\";}#sk-container-id-6 div.sk-estimator input.sk-toggleable__control:checked~label.sk-toggleable__label {background-color: #d4ebff;}#sk-container-id-6 div.sk-label input.sk-toggleable__control:checked~label.sk-toggleable__label {background-color: #d4ebff;}#sk-container-id-6 input.sk-hidden--visually {border: 0;clip: rect(1px 1px 1px 1px);clip: rect(1px, 1px, 1px, 1px);height: 1px;margin: -1px;overflow: hidden;padding: 0;position: absolute;width: 1px;}#sk-container-id-6 div.sk-estimator {font-family: monospace;background-color: #f0f8ff;border: 1px dotted black;border-radius: 0.25em;box-sizing: border-box;margin-bottom: 0.5em;}#sk-container-id-6 div.sk-estimator:hover {background-color: #d4ebff;}#sk-container-id-6 div.sk-parallel-item::after {content: \"\";width: 100%;border-bottom: 1px solid gray;flex-grow: 1;}#sk-container-id-6 div.sk-label:hover label.sk-toggleable__label {background-color: #d4ebff;}#sk-container-id-6 div.sk-serial::before {content: \"\";position: absolute;border-left: 1px solid gray;box-sizing: border-box;top: 0;bottom: 0;left: 50%;z-index: 0;}#sk-container-id-6 div.sk-serial {display: flex;flex-direction: column;align-items: center;background-color: white;padding-right: 0.2em;padding-left: 0.2em;position: relative;}#sk-container-id-6 div.sk-item {position: relative;z-index: 1;}#sk-container-id-6 div.sk-parallel {display: flex;align-items: stretch;justify-content: center;background-color: white;position: relative;}#sk-container-id-6 div.sk-item::before, #sk-container-id-6 div.sk-parallel-item::before {content: \"\";position: absolute;border-left: 1px solid gray;box-sizing: border-box;top: 0;bottom: 0;left: 50%;z-index: -1;}#sk-container-id-6 div.sk-parallel-item {display: flex;flex-direction: column;z-index: 1;position: relative;background-color: white;}#sk-container-id-6 div.sk-parallel-item:first-child::after {align-self: flex-end;width: 50%;}#sk-container-id-6 div.sk-parallel-item:last-child::after {align-self: flex-start;width: 50%;}#sk-container-id-6 div.sk-parallel-item:only-child::after {width: 0;}#sk-container-id-6 div.sk-dashed-wrapped {border: 1px dashed gray;margin: 0 0.4em 0.5em 0.4em;box-sizing: border-box;padding-bottom: 0.4em;background-color: white;}#sk-container-id-6 div.sk-label label {font-family: monospace;font-weight: bold;display: inline-block;line-height: 1.2em;}#sk-container-id-6 div.sk-label-container {text-align: center;}#sk-container-id-6 div.sk-container {/* jupyter's `normalize.less` sets `[hidden] { display: none; }` but bootstrap.min.css set `[hidden] { display: none !important; }` so we also need the `!important` here to be able to override the default hidden behavior on the sphinx rendered scikit-learn.org. See: https://github.com/scikit-learn/scikit-learn/issues/21755 */display: inline-block !important;position: relative;}#sk-container-id-6 div.sk-text-repr-fallback {display: none;}</style><div id=\"sk-container-id-6\" class=\"sk-top-container\"><div class=\"sk-text-repr-fallback\"><pre>SVC(C=1, degree=5, gamma=0.1, kernel=&#x27;poly&#x27;)</pre><b>In a Jupyter environment, please rerun this cell to show the HTML representation or trust the notebook. <br />On GitHub, the HTML representation is unable to render, please try loading this page with nbviewer.org.</b></div><div class=\"sk-container\" hidden><div class=\"sk-item\"><div class=\"sk-estimator sk-toggleable\"><input class=\"sk-toggleable__control sk-hidden--visually\" id=\"sk-estimator-id-6\" type=\"checkbox\" checked><label for=\"sk-estimator-id-6\" class=\"sk-toggleable__label sk-toggleable__label-arrow\">SVC</label><div class=\"sk-toggleable__content\"><pre>SVC(C=1, degree=5, gamma=0.1, kernel=&#x27;poly&#x27;)</pre></div></div></div></div></div>"
      ],
      "text/plain": [
       "SVC(C=1, degree=5, gamma=0.1, kernel='poly')"
      ]
     },
     "execution_count": 26,
     "metadata": {},
     "output_type": "execute_result"
    }
   ],
   "source": [
    "classifier = SVC(C=1,kernel='poly',degree=5,gamma=0.1)  \n",
    "classifier.fit(x_train, y_train)"
   ]
  },
  {
   "cell_type": "code",
   "execution_count": 27,
   "metadata": {},
   "outputs": [
    {
     "name": "stdout",
     "output_type": "stream",
     "text": [
      "[3 1 2 4 4 3 2 2 3 3 4 3 4 1] 91     5\n",
      "107    1\n",
      "12     3\n",
      "26     5\n",
      "66     3\n",
      "69     3\n",
      "67     1\n",
      "119    3\n",
      "110    3\n",
      "75     3\n",
      "87     4\n",
      "46     2\n",
      "78     3\n",
      "70     4\n",
      "Name: PRESENT JOB FEELING, dtype: int64\n",
      "0.35714285714285715\n"
     ]
    }
   ],
   "source": [
    "\n",
    "y_pred=classifier.predict(x_test)\n",
    "print(y_pred,y_test)\n",
    "print(metrics.accuracy_score(y_test,y_pred))"
   ]
  },
  {
   "cell_type": "code",
   "execution_count": 30,
   "metadata": {},
   "outputs": [
    {
     "data": {
      "text/html": [
       "<style>#sk-container-id-8 {color: black;background-color: white;}#sk-container-id-8 pre{padding: 0;}#sk-container-id-8 div.sk-toggleable {background-color: white;}#sk-container-id-8 label.sk-toggleable__label {cursor: pointer;display: block;width: 100%;margin-bottom: 0;padding: 0.3em;box-sizing: border-box;text-align: center;}#sk-container-id-8 label.sk-toggleable__label-arrow:before {content: \"▸\";float: left;margin-right: 0.25em;color: #696969;}#sk-container-id-8 label.sk-toggleable__label-arrow:hover:before {color: black;}#sk-container-id-8 div.sk-estimator:hover label.sk-toggleable__label-arrow:before {color: black;}#sk-container-id-8 div.sk-toggleable__content {max-height: 0;max-width: 0;overflow: hidden;text-align: left;background-color: #f0f8ff;}#sk-container-id-8 div.sk-toggleable__content pre {margin: 0.2em;color: black;border-radius: 0.25em;background-color: #f0f8ff;}#sk-container-id-8 input.sk-toggleable__control:checked~div.sk-toggleable__content {max-height: 200px;max-width: 100%;overflow: auto;}#sk-container-id-8 input.sk-toggleable__control:checked~label.sk-toggleable__label-arrow:before {content: \"▾\";}#sk-container-id-8 div.sk-estimator input.sk-toggleable__control:checked~label.sk-toggleable__label {background-color: #d4ebff;}#sk-container-id-8 div.sk-label input.sk-toggleable__control:checked~label.sk-toggleable__label {background-color: #d4ebff;}#sk-container-id-8 input.sk-hidden--visually {border: 0;clip: rect(1px 1px 1px 1px);clip: rect(1px, 1px, 1px, 1px);height: 1px;margin: -1px;overflow: hidden;padding: 0;position: absolute;width: 1px;}#sk-container-id-8 div.sk-estimator {font-family: monospace;background-color: #f0f8ff;border: 1px dotted black;border-radius: 0.25em;box-sizing: border-box;margin-bottom: 0.5em;}#sk-container-id-8 div.sk-estimator:hover {background-color: #d4ebff;}#sk-container-id-8 div.sk-parallel-item::after {content: \"\";width: 100%;border-bottom: 1px solid gray;flex-grow: 1;}#sk-container-id-8 div.sk-label:hover label.sk-toggleable__label {background-color: #d4ebff;}#sk-container-id-8 div.sk-serial::before {content: \"\";position: absolute;border-left: 1px solid gray;box-sizing: border-box;top: 0;bottom: 0;left: 50%;z-index: 0;}#sk-container-id-8 div.sk-serial {display: flex;flex-direction: column;align-items: center;background-color: white;padding-right: 0.2em;padding-left: 0.2em;position: relative;}#sk-container-id-8 div.sk-item {position: relative;z-index: 1;}#sk-container-id-8 div.sk-parallel {display: flex;align-items: stretch;justify-content: center;background-color: white;position: relative;}#sk-container-id-8 div.sk-item::before, #sk-container-id-8 div.sk-parallel-item::before {content: \"\";position: absolute;border-left: 1px solid gray;box-sizing: border-box;top: 0;bottom: 0;left: 50%;z-index: -1;}#sk-container-id-8 div.sk-parallel-item {display: flex;flex-direction: column;z-index: 1;position: relative;background-color: white;}#sk-container-id-8 div.sk-parallel-item:first-child::after {align-self: flex-end;width: 50%;}#sk-container-id-8 div.sk-parallel-item:last-child::after {align-self: flex-start;width: 50%;}#sk-container-id-8 div.sk-parallel-item:only-child::after {width: 0;}#sk-container-id-8 div.sk-dashed-wrapped {border: 1px dashed gray;margin: 0 0.4em 0.5em 0.4em;box-sizing: border-box;padding-bottom: 0.4em;background-color: white;}#sk-container-id-8 div.sk-label label {font-family: monospace;font-weight: bold;display: inline-block;line-height: 1.2em;}#sk-container-id-8 div.sk-label-container {text-align: center;}#sk-container-id-8 div.sk-container {/* jupyter's `normalize.less` sets `[hidden] { display: none; }` but bootstrap.min.css set `[hidden] { display: none !important; }` so we also need the `!important` here to be able to override the default hidden behavior on the sphinx rendered scikit-learn.org. See: https://github.com/scikit-learn/scikit-learn/issues/21755 */display: inline-block !important;position: relative;}#sk-container-id-8 div.sk-text-repr-fallback {display: none;}</style><div id=\"sk-container-id-8\" class=\"sk-top-container\"><div class=\"sk-text-repr-fallback\"><pre>XGBClassifier(base_score=0.5, booster=&#x27;gbtree&#x27;, callbacks=None,\n",
       "              colsample_bylevel=1, colsample_bynode=1, colsample_bytree=1,\n",
       "              early_stopping_rounds=None, enable_categorical=False,\n",
       "              eval_metric=None, gamma=0, gpu_id=-1, grow_policy=&#x27;depthwise&#x27;,\n",
       "              importance_type=None, interaction_constraints=&#x27;&#x27;,\n",
       "              learning_rate=0.2, max_bin=256, max_cat_to_onehot=4,\n",
       "              max_delta_step=0, max_depth=3, max_leaves=0, min_child_weight=1,\n",
       "              missing=nan, monotone_constraints=&#x27;()&#x27;, n_estimators=400,\n",
       "              n_jobs=0, num_parallel_tree=1, objective=&#x27;multi:softprob&#x27;,\n",
       "              predictor=&#x27;auto&#x27;, random_state=0, reg_alpha=0, ...)</pre><b>In a Jupyter environment, please rerun this cell to show the HTML representation or trust the notebook. <br />On GitHub, the HTML representation is unable to render, please try loading this page with nbviewer.org.</b></div><div class=\"sk-container\" hidden><div class=\"sk-item\"><div class=\"sk-estimator sk-toggleable\"><input class=\"sk-toggleable__control sk-hidden--visually\" id=\"sk-estimator-id-8\" type=\"checkbox\" checked><label for=\"sk-estimator-id-8\" class=\"sk-toggleable__label sk-toggleable__label-arrow\">XGBClassifier</label><div class=\"sk-toggleable__content\"><pre>XGBClassifier(base_score=0.5, booster=&#x27;gbtree&#x27;, callbacks=None,\n",
       "              colsample_bylevel=1, colsample_bynode=1, colsample_bytree=1,\n",
       "              early_stopping_rounds=None, enable_categorical=False,\n",
       "              eval_metric=None, gamma=0, gpu_id=-1, grow_policy=&#x27;depthwise&#x27;,\n",
       "              importance_type=None, interaction_constraints=&#x27;&#x27;,\n",
       "              learning_rate=0.2, max_bin=256, max_cat_to_onehot=4,\n",
       "              max_delta_step=0, max_depth=3, max_leaves=0, min_child_weight=1,\n",
       "              missing=nan, monotone_constraints=&#x27;()&#x27;, n_estimators=400,\n",
       "              n_jobs=0, num_parallel_tree=1, objective=&#x27;multi:softprob&#x27;,\n",
       "              predictor=&#x27;auto&#x27;, random_state=0, reg_alpha=0, ...)</pre></div></div></div></div></div>"
      ],
      "text/plain": [
       "XGBClassifier(base_score=0.5, booster='gbtree', callbacks=None,\n",
       "              colsample_bylevel=1, colsample_bynode=1, colsample_bytree=1,\n",
       "              early_stopping_rounds=None, enable_categorical=False,\n",
       "              eval_metric=None, gamma=0, gpu_id=-1, grow_policy='depthwise',\n",
       "              importance_type=None, interaction_constraints='',\n",
       "              learning_rate=0.2, max_bin=256, max_cat_to_onehot=4,\n",
       "              max_delta_step=0, max_depth=3, max_leaves=0, min_child_weight=1,\n",
       "              missing=nan, monotone_constraints='()', n_estimators=400,\n",
       "              n_jobs=0, num_parallel_tree=1, objective='multi:softprob',\n",
       "              predictor='auto', random_state=0, reg_alpha=0, ...)"
      ]
     },
     "execution_count": 30,
     "metadata": {},
     "output_type": "execute_result"
    }
   ],
   "source": [
    "from sklearn.preprocessing import LabelEncoder\n",
    "le = LabelEncoder()\n",
    "y_train = le.fit_transform(y_train)\n",
    "xgb_classifier = xgb.XGBClassifier(n_estimators = 400, learning_rate = 0.2, max_depth = 3)\n",
    "xgb_classifier.fit(x_train,y_train)"
   ]
  },
  {
   "cell_type": "code",
   "execution_count": 31,
   "metadata": {},
   "outputs": [
    {
     "data": {
      "text/plain": [
       "0.5714285714285714"
      ]
     },
     "execution_count": 31,
     "metadata": {},
     "output_type": "execute_result"
    }
   ],
   "source": [
    "predictions = xgb_classifier.predict(x_test)\n",
    "pred=[]\n",
    "for i in predictions:\n",
    "    pred.append(i+1)\n",
    "pred=np.array(pred)\n",
    "metrics.accuracy_score(y_test,pred)"
   ]
  }
 ],
 "metadata": {
  "kernelspec": {
   "display_name": "Python 3.10.5 64-bit",
   "language": "python",
   "name": "python3"
  },
  "language_info": {
   "codemirror_mode": {
    "name": "ipython",
    "version": 3
   },
   "file_extension": ".py",
   "mimetype": "text/x-python",
   "name": "python",
   "nbconvert_exporter": "python",
   "pygments_lexer": "ipython3",
   "version": "3.10.5"
  },
  "orig_nbformat": 4,
  "vscode": {
   "interpreter": {
    "hash": "e7370f93d1d0cde622a1f8e1c04877d8463912d04d973331ad4851f04de6915a"
   }
  }
 },
 "nbformat": 4,
 "nbformat_minor": 2
}
