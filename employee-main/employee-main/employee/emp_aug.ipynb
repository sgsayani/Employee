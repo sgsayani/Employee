{
 "cells": [
  {
   "cell_type": "code",
   "execution_count": 33,
   "metadata": {},
   "outputs": [],
   "source": [
    "import pandas as pd\n",
    "import numpy as np "
   ]
  },
  {
   "cell_type": "code",
   "execution_count": 34,
   "metadata": {},
   "outputs": [
    {
     "name": "stdout",
     "output_type": "stream",
     "text": [
      "     Unnamed: 0  AGE  MANG. POS  QUALIFCSN  EXPRNC  GENDER  \\\n",
      "0             0    2          2          3       2       1   \n",
      "1             1    2          2          3       3       1   \n",
      "2             2    2          2          3       2       2   \n",
      "3             3    2          2          3       2       1   \n",
      "4             4    2          3          3       3       1   \n",
      "..          ...  ...        ...        ...     ...     ...   \n",
      "255         255    2          2          3       3       1   \n",
      "256         256    2          2          3       2       1   \n",
      "257         257    2          1          3       2       1   \n",
      "258         258    2          2          3       3       1   \n",
      "259         259    2          2          4       3       1   \n",
      "\n",
      "     PRESENT JOB FEELING  ENTHUSIASM  WORKOVERLD  ENJOYMNT  ...  DOWNHRTED  \\\n",
      "0                      3           4           2         3  ...          3   \n",
      "1                      4           1           2         2  ...          2   \n",
      "2                      4           4           4         4  ...          3   \n",
      "3                      4           3           4         2  ...          3   \n",
      "4                      3           4           5         4  ...          5   \n",
      "..                   ...         ...         ...       ...  ...        ...   \n",
      "255                    5           3           4         2  ...          3   \n",
      "256                    5           3           4         2  ...          2   \n",
      "257                    5           2           4         1  ...          1   \n",
      "258                    5           2           5         1  ...          1   \n",
      "259                    5           3           4         3  ...          3   \n",
      "\n",
      "     BOTHRED  EMOSNAL STABLTY  CHEERUL  TIRED  ABSNT MIND  DISCUSS CO-WORKER  \\\n",
      "0          2                1        4      3           4                  4   \n",
      "1          2                4        3      1           4                  3   \n",
      "2          4                3        4      3           4                  4   \n",
      "3          2                3        2      1           3                  1   \n",
      "4          1                4        1      1           5                  1   \n",
      "..       ...              ...      ...    ...         ...                ...   \n",
      "255        3                4        2      1           1                  1   \n",
      "256        2                2        2      2           4                  3   \n",
      "257        1                4        2      2           2                  3   \n",
      "258        1                5        1      1           1                  1   \n",
      "259        3                4        2      1           1                  1   \n",
      "\n",
      "     PERSNL MTTR  THOUGHT OF LEAVING  LESS EFFORT   \n",
      "0              4                   4             4  \n",
      "1              4                   3             3  \n",
      "2              4                   4             2  \n",
      "3              3                   1             3  \n",
      "4              5                   1             5  \n",
      "..           ...                 ...           ...  \n",
      "255            1                   1             1  \n",
      "256            4                   3             1  \n",
      "257            2                   3             1  \n",
      "258            1                   1             1  \n",
      "259            1                   1             1  \n",
      "\n",
      "[260 rows x 24 columns]\n"
     ]
    }
   ],
   "source": [
    "\"\"\"\n",
    "Load data\n",
    "\"\"\"\n",
    "data=pd.read_excel(\"new_data.xlsx\")\n",
    "print(data)"
   ]
  },
  {
   "cell_type": "code",
   "execution_count": 35,
   "metadata": {},
   "outputs": [
    {
     "data": {
      "text/plain": [
       "'\\ndata preprocessing \\n\\n'"
      ]
     },
     "execution_count": 35,
     "metadata": {},
     "output_type": "execute_result"
    }
   ],
   "source": [
    "\"\"\"\n",
    "data preprocessing \n",
    "\n",
    "\"\"\""
   ]
  },
  {
   "cell_type": "code",
   "execution_count": 36,
   "metadata": {},
   "outputs": [
    {
     "name": "stdout",
     "output_type": "stream",
     "text": [
      "(260, 23)\n",
      "     AGE  MANG. POS  QUALIFCSN  EXPRNC  GENDER  PRESENT JOB FEELING  \\\n",
      "0      2          2          3       2       1                    3   \n",
      "1      2          2          3       3       1                    4   \n",
      "2      2          2          3       2       2                    4   \n",
      "3      2          2          3       2       1                    4   \n",
      "4      2          3          3       3       1                    3   \n",
      "..   ...        ...        ...     ...     ...                  ...   \n",
      "255    2          2          3       3       1                    5   \n",
      "256    2          2          3       2       1                    5   \n",
      "257    2          1          3       2       1                    5   \n",
      "258    2          2          3       3       1                    5   \n",
      "259    2          2          4       3       1                    5   \n",
      "\n",
      "     ENTHUSIASM  WORKOVERLD  ENJOYMNT  UNPLSNTTASK  ...  DOWNHRTED  BOTHRED  \\\n",
      "0             4           2         3            4  ...          3        2   \n",
      "1             1           2         2            5  ...          2        2   \n",
      "2             4           4         4            2  ...          3        4   \n",
      "3             3           4         2            1  ...          3        2   \n",
      "4             4           5         4            1  ...          5        1   \n",
      "..          ...         ...       ...          ...  ...        ...      ...   \n",
      "255           3           4         2            1  ...          3        3   \n",
      "256           3           4         2            2  ...          2        2   \n",
      "257           2           4         1            1  ...          1        1   \n",
      "258           2           5         1            1  ...          1        1   \n",
      "259           3           4         3            2  ...          3        3   \n",
      "\n",
      "     EMOSNAL STABLTY  CHEERUL  TIRED  ABSNT MIND  DISCUSS CO-WORKER  \\\n",
      "0                  1        4      3           4                  4   \n",
      "1                  4        3      1           4                  3   \n",
      "2                  3        4      3           4                  4   \n",
      "3                  3        2      1           3                  1   \n",
      "4                  4        1      1           5                  1   \n",
      "..               ...      ...    ...         ...                ...   \n",
      "255                4        2      1           1                  1   \n",
      "256                2        2      2           4                  3   \n",
      "257                4        2      2           2                  3   \n",
      "258                5        1      1           1                  1   \n",
      "259                4        2      1           1                  1   \n",
      "\n",
      "     PERSNL MTTR  THOUGHT OF LEAVING  LESS EFFORT   \n",
      "0              4                   4             4  \n",
      "1              4                   3             3  \n",
      "2              4                   4             2  \n",
      "3              3                   1             3  \n",
      "4              5                   1             5  \n",
      "..           ...                 ...           ...  \n",
      "255            1                   1             1  \n",
      "256            4                   3             1  \n",
      "257            2                   3             1  \n",
      "258            1                   1             1  \n",
      "259            1                   1             1  \n",
      "\n",
      "[260 rows x 23 columns]\n"
     ]
    }
   ],
   "source": [
    "data=data.dropna()\n",
    "data=data.loc[:, ~data.columns.str.contains('^Unnamed')]\n",
    "print(data.shape)\n",
    "print(data)"
   ]
  },
  {
   "cell_type": "code",
   "execution_count": 37,
   "metadata": {},
   "outputs": [],
   "source": [
    "\"\"\"\n",
    "augmentation\n",
    "\"\"\"\n",
    "\n",
    "from imblearn.over_sampling import SMOTE\n",
    "import math\n",
    "def smote(x, y):\n",
    "    # Synthetic Minority Over-samping Technique\n",
    "    # \n",
    "    # sampling_strategy: determines the portion of samples to \n",
    "    #                    generate with respect to the majority class\n",
    "    # k_neighbors : number of neighbors to be considered for each sample\n",
    "    \n",
    "    # For this example, only 1% of minoirty samples are considered\n",
    "    k_neighbors = math.ceil(sum(y) * 0.01)\n",
    "    \n",
    "    smote = SMOTE(random_state=42,k_neighbors=k_neighbors)\n",
    "    x, y = smote.fit_resample(x, y)\n",
    "    \n",
    "    return x, y"
   ]
  },
  {
   "cell_type": "code",
   "execution_count": 38,
   "metadata": {},
   "outputs": [
    {
     "name": "stdout",
     "output_type": "stream",
     "text": [
      "['ENTHUSIASM', 'WORKOVERLD', 'ENJOYMNT', 'UNPLSNTTASK', 'TOUGH PERFORMNCE', 'TIME MNGMNT', 'DISAPNTMNT', 'DOWNHRTED', 'BOTHRED', 'EMOSNAL STABLTY', 'CHEERUL', 'TIRED', 'ABSNT MIND', 'DISCUSS CO-WORKER', 'PERSNL MTTR', 'THOUGHT OF LEAVING', 'LESS EFFORT ']\n"
     ]
    },
    {
     "data": {
      "text/plain": [
       "(260, 17)"
      ]
     },
     "execution_count": 38,
     "metadata": {},
     "output_type": "execute_result"
    }
   ],
   "source": [
    "class_value=data[\"PRESENT JOB FEELING\"]\n",
    "class_value\n",
    "feature_name_list=data.columns[6:]\n",
    "feature_name_list\n",
    "feature_final_list=[]\n",
    "for i in feature_name_list:\n",
    "    if \"Unnamed: \" not in i:\n",
    "        feature_final_list.append(i)\n",
    "print(feature_final_list)\n",
    "features=data[feature_final_list]\n",
    "features.shape\n",
    "features=features.dropna()\n",
    "features.shape"
   ]
  },
  {
   "cell_type": "code",
   "execution_count": 39,
   "metadata": {},
   "outputs": [
    {
     "data": {
      "text/plain": [
       "0      3\n",
       "1      4\n",
       "2      4\n",
       "3      4\n",
       "4      3\n",
       "      ..\n",
       "255    5\n",
       "256    5\n",
       "257    5\n",
       "258    5\n",
       "259    5\n",
       "Name: PRESENT JOB FEELING, Length: 260, dtype: int64"
      ]
     },
     "execution_count": 39,
     "metadata": {},
     "output_type": "execute_result"
    }
   ],
   "source": [
    "\n",
    "class_value.shape\n",
    "features=features.astype(\"int\")\n",
    "class_value=class_value.astype(\"int\")\n",
    "class_value=class_value.dropna()\n",
    "class_value.shape\n",
    "\n",
    "x=features\n",
    "y=class_value\n",
    "y"
   ]
  },
  {
   "cell_type": "code",
   "execution_count": 40,
   "metadata": {},
   "outputs": [
    {
     "name": "stdout",
     "output_type": "stream",
     "text": [
      "     AGE  MANG. POS  QUALIFCSN  EXPRNC  GENDER  PRESENT JOB FEELING  \\\n",
      "0      2          2          3       2       1                    3   \n",
      "1      2          2          3       3       1                    4   \n",
      "2      2          2          3       2       2                    4   \n",
      "3      2          2          3       2       1                    4   \n",
      "4      2          3          3       3       1                    3   \n",
      "..   ...        ...        ...     ...     ...                  ...   \n",
      "255    2          2          3       3       1                    5   \n",
      "256    2          2          3       2       1                    5   \n",
      "257    2          1          3       2       1                    5   \n",
      "258    2          2          3       3       1                    5   \n",
      "259    2          2          4       3       1                    5   \n",
      "\n",
      "     ENTHUSIASM  WORKOVERLD  ENJOYMNT  UNPLSNTTASK  ...  DOWNHRTED  BOTHRED  \\\n",
      "0             4           2         3            4  ...          3        2   \n",
      "1             1           2         2            5  ...          2        2   \n",
      "2             4           4         4            2  ...          3        4   \n",
      "3             3           4         2            1  ...          3        2   \n",
      "4             4           5         4            1  ...          5        1   \n",
      "..          ...         ...       ...          ...  ...        ...      ...   \n",
      "255           3           4         2            1  ...          3        3   \n",
      "256           3           4         2            2  ...          2        2   \n",
      "257           2           4         1            1  ...          1        1   \n",
      "258           2           5         1            1  ...          1        1   \n",
      "259           3           4         3            2  ...          3        3   \n",
      "\n",
      "     EMOSNAL STABLTY  CHEERUL  TIRED  ABSNT MIND  DISCUSS CO-WORKER  \\\n",
      "0                  1        4      3           4                  4   \n",
      "1                  4        3      1           4                  3   \n",
      "2                  3        4      3           4                  4   \n",
      "3                  3        2      1           3                  1   \n",
      "4                  4        1      1           5                  1   \n",
      "..               ...      ...    ...         ...                ...   \n",
      "255                4        2      1           1                  1   \n",
      "256                2        2      2           4                  3   \n",
      "257                4        2      2           2                  3   \n",
      "258                5        1      1           1                  1   \n",
      "259                4        2      1           1                  1   \n",
      "\n",
      "     PERSNL MTTR  THOUGHT OF LEAVING  LESS EFFORT   \n",
      "0              4                   4             4  \n",
      "1              4                   3             3  \n",
      "2              4                   4             2  \n",
      "3              3                   1             3  \n",
      "4              5                   1             5  \n",
      "..           ...                 ...           ...  \n",
      "255            1                   1             1  \n",
      "256            4                   3             1  \n",
      "257            2                   3             1  \n",
      "258            1                   1             1  \n",
      "259            1                   1             1  \n",
      "\n",
      "[260 rows x 23 columns]\n"
     ]
    }
   ],
   "source": [
    "x1,y1=smote(data,y)\n",
    "x1\n",
    "new_dataframe=pd.DataFrame(x1)\n",
    "new_dataframe.to_excel(\"new_data.xlsx\")\n",
    "print(x1)"
   ]
  },
  {
   "cell_type": "code",
   "execution_count": 41,
   "metadata": {},
   "outputs": [],
   "source": [
    "new_dataframe=new_dataframe.astype(\"int\")\n",
    "new_dataframe\n",
    "new_dataframe.to_excel(\"new_data.xlsx\")"
   ]
  }
 ],
 "metadata": {
  "kernelspec": {
   "display_name": "Python 3.10.5 64-bit",
   "language": "python",
   "name": "python3"
  },
  "language_info": {
   "codemirror_mode": {
    "name": "ipython",
    "version": 3
   },
   "file_extension": ".py",
   "mimetype": "text/x-python",
   "name": "python",
   "nbconvert_exporter": "python",
   "pygments_lexer": "ipython3",
   "version": "3.10.5"
  },
  "orig_nbformat": 4,
  "vscode": {
   "interpreter": {
    "hash": "e7370f93d1d0cde622a1f8e1c04877d8463912d04d973331ad4851f04de6915a"
   }
  }
 },
 "nbformat": 4,
 "nbformat_minor": 2
}
